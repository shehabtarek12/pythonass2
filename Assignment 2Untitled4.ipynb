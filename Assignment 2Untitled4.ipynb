{
 "cells": [
  {
   "cell_type": "code",
   "execution_count": 6,
   "id": "ab1d1da2",
   "metadata": {},
   "outputs": [
    {
     "name": "stdout",
     "output_type": "stream",
     "text": [
      "s\n",
      "Old Tuple: (1, 2, 3, 'Shehab')\n",
      "New Tuple: (1, 2, 3, 'Shehab', 's')\n"
     ]
    }
   ],
   "source": [
    "# Write a Python program to add an item to a tuple.\n",
    "def AddTuple(old, new):\n",
    "    tuple_to_list = list(old)\n",
    "    tuple_to_list.append(new)\n",
    "    new_tuple = tuple(tuple_to_list)\n",
    "    return new_tuple\n",
    "\n",
    "old_tuple = (1, 2, 3, \"Shehab\")\n",
    "item_to_add = input()\n",
    "new_tuple = AddTuple(old_tuple, item_to_add)\n",
    "print(\"Old Tuple:\", old_tuple)\n",
    "print(\"New Tuple:\", new_tuple)"
   ]
  },
  {
   "cell_type": "code",
   "execution_count": 8,
   "id": "76b6713b",
   "metadata": {},
   "outputs": [
    {
     "name": "stdout",
     "output_type": "stream",
     "text": [
      "Please enter your list :1 2 3\n",
      "This  is the result : 6\n"
     ]
    }
   ],
   "source": [
    "#  Write a Python program to sum all the items in a list.\n",
    "def sum_func(input_list):\n",
    "    result = 0\n",
    "    for item in input_list:\n",
    "        result += item\n",
    "    return result\n",
    "try:\n",
    "    input_list = [int(x) for x in input(\"Please enter your list :\").split()]\n",
    "    result = sum_func(input_list)\n",
    "    print(\"This  is the result :\",result)\n",
    "except ValueError:\n",
    "    print(\"Invalid input , please try again\")"
   ]
  },
  {
   "cell_type": "code",
   "execution_count": 4,
   "id": "3cbb3523",
   "metadata": {},
   "outputs": [
    {
     "name": "stdout",
     "output_type": "stream",
     "text": [
      "Please enter your list :1 2 3\n",
      "This is the result :  6\n"
     ]
    }
   ],
   "source": [
    "#  Write a Python program to multiply all the items in a list.\n",
    "def multipl_func(input_list):\n",
    "    result = 1\n",
    "    for item in input_list:\n",
    "        result *= item\n",
    "    return result\n",
    "try:\n",
    "    input_list=[int(x) for x in input(\"Please enter your list :\").split()]\n",
    "    result = multipl_func(input_list)\n",
    "    print(\"This is the result : \" , result)\n",
    "except ValueError:\n",
    "    print(\"Invalid inputplease try again\")\n",
    "        \n",
    "        \n",
    "    \n",
    "    "
   ]
  },
  {
   "cell_type": "code",
   "execution_count": 29,
   "id": "b018feb8",
   "metadata": {},
   "outputs": [
    {
     "name": "stdout",
     "output_type": "stream",
     "text": [
      "Please enter your list :1 2 4\n",
      "This is the result : 1\n"
     ]
    }
   ],
   "source": [
    "# Write a Python program to get the smallest number from a list.\n",
    "def smallest_func(input_list):\n",
    "    smallest = input_list[0]\n",
    "    for num in input_list:\n",
    "        if num < smallest:\n",
    "            smallest = num\n",
    "    return smallest\n",
    "try:\n",
    "    input_list = [int(x) for x in input(\"Please enter your list :\").split()]\n",
    "    smallest = smallest_func(input_list)\n",
    "    print(\"This is the result :\" , smallest)\n",
    "except ValueError:\n",
    "    print(\"Invalid Erorr , please try again\")\n",
    "    \n",
    "    "
   ]
  },
  {
   "cell_type": "code",
   "execution_count": 28,
   "id": "66ebe418",
   "metadata": {},
   "outputs": [
    {
     "name": "stdout",
     "output_type": "stream",
     "text": [
      "Please enter your list : 356 2 848 48 \n",
      "This is your reust :  848\n"
     ]
    }
   ],
   "source": [
    "#  Write a Python program to get the largest number from a list.\n",
    "def largest_func(input_list):\n",
    "    largest = input_list[-1]\n",
    "    for num in input_list:\n",
    "        if num > largest:\n",
    "            largest = num\n",
    "    return largest\n",
    "try:\n",
    "    input_list = [int(x) for x in input(\"Please enter your list :\").split()]\n",
    "    largest = largest_func(input_list)\n",
    "    print(\"This is your reuslt : \",largest)\n",
    "except ValueError:\n",
    "    print(\"Invlaid input , please try again later\")"
   ]
  },
  {
   "cell_type": "code",
   "execution_count": 5,
   "id": "184e138c",
   "metadata": {},
   "outputs": [
    {
     "name": "stdout",
     "output_type": "stream",
     "text": [
      "Number of strings: 5\n"
     ]
    }
   ],
   "source": [
    "# Write a Python program to count the number of strings from a given list of \n",
    "# strings\n",
    "def count_strings(strings_list):\n",
    "    count = 0\n",
    "    for item in strings_list:\n",
    "        if isinstance(item, str):\n",
    "            count += 1\n",
    "    return count\n",
    "input_list = [\"apple\", \"orange\", 123, \"banana\", \"grape\", 456, \"cherry\"]\n",
    "num_strings = count_strings(input_list)\n",
    "print(\"Number of strings:\", num_strings)\n",
    "\n"
   ]
  },
  {
   "cell_type": "code",
   "execution_count": 6,
   "id": "2b148a85",
   "metadata": {},
   "outputs": [
    {
     "name": "stdout",
     "output_type": "stream",
     "text": [
      "Original list: [1, 2, 3, 4, 5]\n",
      "Cloned list: [1, 2, 3, 4, 5]\n"
     ]
    }
   ],
   "source": [
    "#  Write a Python program to clone or copy a list\n",
    "def clone_list(input_list):\n",
    "    return input_list[:]\n",
    "original_list = [1, 2, 3, 4, 5]\n",
    "cloned_list = clone_list(original_list)\n",
    "print(\"Original list:\", original_list)\n",
    "print(\"Cloned list:\", cloned_list)\n"
   ]
  },
  {
   "cell_type": "code",
   "execution_count": 7,
   "id": "e8ab2887",
   "metadata": {},
   "outputs": [
    {
     "name": "stdout",
     "output_type": "stream",
     "text": [
      "Original set: {1, 2, 3, 4, 5}\n",
      "Set after removal: {1, 3, 5}\n"
     ]
    }
   ],
   "source": [
    "# Write a Python program to check if a set is a subset of another set.\n",
    "def remove_items_from_set(input_set, items_to_remove):\n",
    "    for item in items_to_remove:\n",
    "        input_set.discard(item)\n",
    "\n",
    "my_set = {1, 2, 3, 4, 5}\n",
    "print(\"Original set:\", my_set)\n",
    "\n",
    "items_to_remove = {2, 4}\n",
    "remove_items_from_set(my_set, items_to_remove)\n",
    "\n",
    "print(\"Set after removal:\", my_set)\n"
   ]
  },
  {
   "cell_type": "code",
   "execution_count": 9,
   "id": "ae2dc753",
   "metadata": {},
   "outputs": [
    {
     "name": "stdout",
     "output_type": "stream",
     "text": [
      "Original set: {1, 2, 3, 4, 5, 'f'}\n",
      "Set after removal: set()\n"
     ]
    }
   ],
   "source": [
    "#  Write a Python program to remove all elements from a given set.\n",
    "def remove_all_elements_from_set(input_set):\n",
    "    input_set.clear()\n",
    "my_set = {1, 2, 3, 4, 5,'f'}\n",
    "print(\"Original set:\", my_set)\n",
    "remove_all_elements_from_set(my_set)\n",
    "print(\"Set after removal:\", my_set)\n"
   ]
  },
  {
   "cell_type": "code",
   "execution_count": 11,
   "id": "1c716e38",
   "metadata": {},
   "outputs": [
    {
     "name": "stdout",
     "output_type": "stream",
     "text": [
      "Original set: {20, 5, 8, 10, 15}\n",
      "Maximum value: 20\n",
      "Minimum value: 5\n"
     ]
    }
   ],
   "source": [
    "#  Write a Python program to find the maximum and minimum values in a set.\n",
    "def find_max_min_values(input_set):\n",
    "    if not input_set:\n",
    "        print(\"The set is empty.\")\n",
    "    else:\n",
    "        max_value = max(input_set)\n",
    "        min_value = min(input_set)\n",
    "        return max_value, min_value\n",
    "\n",
    "my_set = {10, 5, 20, 8, 15}\n",
    "max_val, min_val = find_max_min_values(my_set)\n",
    "    \n",
    "if max_val is not None and min_val is not None:\n",
    "    print(\"Original set:\", my_set)\n",
    "    print(\"Maximum value:\", max_val)\n",
    "    print(\"Minimum value:\", min_val)\n"
   ]
  },
  {
   "cell_type": "code",
   "execution_count": 12,
   "id": "830879ec",
   "metadata": {},
   "outputs": [
    {
     "name": "stdout",
     "output_type": "stream",
     "text": [
      "The item 20 is at index 2 in the tuple.\n"
     ]
    }
   ],
   "source": [
    "#  Write a Python program to find the index of an item in a tuple.\n",
    "def find_index_in_tuple(input_tuple, item_to_find):\n",
    "    try:\n",
    "        index = input_tuple.index(item_to_find)\n",
    "        return index\n",
    "    except ValueError:\n",
    "        return None\n",
    "my_tuple = (10, 5, 20, 8, 15, 20, 10)\n",
    "item_to_find = 20\n",
    "    \n",
    "index = find_index_in_tuple(my_tuple, item_to_find)\n",
    "    \n",
    "if index is not None:\n",
    "    print(f\"The item {item_to_find} is at index {index} in the tuple.\")\n",
    "else:\n",
    "    print(f\"The item {item_to_find} is not found in the tuple.\")\n"
   ]
  },
  {
   "cell_type": "code",
   "execution_count": null,
   "id": "b364f603",
   "metadata": {},
   "outputs": [],
   "source": []
  }
 ],
 "metadata": {
  "kernelspec": {
   "display_name": "Python 3 (ipykernel)",
   "language": "python",
   "name": "python3"
  },
  "language_info": {
   "codemirror_mode": {
    "name": "ipython",
    "version": 3
   },
   "file_extension": ".py",
   "mimetype": "text/x-python",
   "name": "python",
   "nbconvert_exporter": "python",
   "pygments_lexer": "ipython3",
   "version": "3.10.9"
  }
 },
 "nbformat": 4,
 "nbformat_minor": 5
}
